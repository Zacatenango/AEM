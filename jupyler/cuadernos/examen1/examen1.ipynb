{
 "cells": [
  {
   "cell_type": "markdown",
   "id": "afef5cd0-73f2-4dba-a450-76fdad8d9a69",
   "metadata": {},
   "source": [
    "# Examen 1 de análisis estadístico multivariable\n",
    "## Acoyani Garrido Sandoval\n",
    "## 2 de Octubre de 2025"
   ]
  },
  {
   "cell_type": "markdown",
   "id": "dfb9b209-ab8e-4538-a512-51e3d9f4cb30",
   "metadata": {},
   "source": [
    "### Pregunta 1\n",
    "\n",
    "Sea $f_{xy}\\left(x,y\\right) = \\frac{1}{2}x + \\frac{3}{2}y$ una función de densidad de probabilidad para $x \\in \\left[0,1\\right]$.\n",
    "\n",
    "a) Sacar las densidades condicionales de $x$ dado $y$ y $y$ dado $x$, que están dadas por\n",
    "\n",
    "$$\n",
    "f_{x|y}\\left(x|y\\right) = \\frac{f_{xy}(x,y)}{f_x(x)}, \\quad f_{y|x}\\left(y|x\\right) = \\frac{f_{xy}\\left(x,y\\right)}{f_x(x)}\n",
    "$$"
   ]
  },
  {
   "cell_type": "code",
   "execution_count": null,
   "id": "b444d0db-20dc-49fa-835b-c941cdb1d8a7",
   "metadata": {},
   "outputs": [],
   "source": []
  },
  {
   "cell_type": "markdown",
   "id": "01875cb3-40ea-45df-81d3-beaab8dc06f0",
   "metadata": {},
   "source": [
    "b) Demostrar que $X, Y$ son dependientes. Sírvase de la regla: si $X, Y$ son independientes, entonces $f_{xy}(x,y) = f_x(x)f_y(y)$"
   ]
  },
  {
   "cell_type": "code",
   "execution_count": null,
   "id": "15a06526-9f2a-4530-9b7e-198096cabb34",
   "metadata": {},
   "outputs": [],
   "source": []
  }
 ],
 "metadata": {
  "kernelspec": {
   "display_name": "Python 3 (ipykernel)",
   "language": "python",
   "name": "python3"
  },
  "language_info": {
   "codemirror_mode": {
    "name": "ipython",
    "version": 3
   },
   "file_extension": ".py",
   "mimetype": "text/x-python",
   "name": "python",
   "nbconvert_exporter": "python",
   "pygments_lexer": "ipython3",
   "version": "3.12.3"
  }
 },
 "nbformat": 4,
 "nbformat_minor": 5
}
