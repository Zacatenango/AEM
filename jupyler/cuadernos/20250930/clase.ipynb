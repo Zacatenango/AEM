{
 "cells": [
  {
   "cell_type": "code",
   "execution_count": 1,
   "id": "b5fd5fab-cdfe-4ab1-be77-61b4edd3a531",
   "metadata": {},
   "outputs": [],
   "source": [
    "import math\n",
    "from scipy.optimize import minimize\n",
    "from scipy.optimize import Bounds\n",
    "import matplotlib.pyplot as pyplot\n",
    "import numpy\n",
    "import json"
   ]
  },
  {
   "cell_type": "code",
   "execution_count": 2,
   "id": "222d42a9-6b01-403d-841e-de4e18f8e492",
   "metadata": {},
   "outputs": [],
   "source": [
    "def PMF_logbinomial(theta, n, k):\n",
    "    return k*numpy.log(theta) + (n-k)*numpy.log(1-theta)\n",
    "\n",
    "def negativa_PMF_logbinomial(theta, n, k):\n",
    "    ll = k*numpy.log(theta) + (n-k)*numpy.log(1-theta)\n",
    "    return -ll"
   ]
  },
  {
   "cell_type": "code",
   "execution_count": 3,
   "id": "13cfc2f7-3d83-4d0c-94f4-cd80c86447b4",
   "metadata": {},
   "outputs": [],
   "source": [
    "n = 10\n",
    "k = 9\n",
    "# theta es incógnita"
   ]
  },
  {
   "cell_type": "code",
   "execution_count": 4,
   "id": "1a6dba09-6c63-491c-b149-263fcee72d06",
   "metadata": {},
   "outputs": [
    {
     "name": "stderr",
     "output_type": "stream",
     "text": [
      "/tmp/ipykernel_46423/3555940352.py:2: RuntimeWarning: divide by zero encountered in log\n",
      "  return k*numpy.log(theta) + (n-k)*numpy.log(1-theta)\n"
     ]
    }
   ],
   "source": [
    "# Sacamos theta por fuerza bruta\n",
    "paso = 0.001\n",
    "thetas = numpy.linspace(0, 1, int(1/paso))\n",
    "log_like = PMF_logbinomial(thetas, n, k)\n",
    "#pyplot.plot(thetas, log_like)"
   ]
  },
  {
   "cell_type": "code",
   "execution_count": 5,
   "id": "eb8d7bef-ea58-4b3e-ab4f-bd11c90464f8",
   "metadata": {},
   "outputs": [
    {
     "name": "stdout",
     "output_type": "stream",
     "text": [
      "theta que maximiza: 0.8998998998998999 (precisión: 1000)\n"
     ]
    }
   ],
   "source": [
    "arg_max_idx = numpy.argmax(log_like)\n",
    "print(f\"theta que maximiza: {thetas[arg_max_idx]} (precisión: {int(1/paso)})\")"
   ]
  },
  {
   "cell_type": "code",
   "execution_count": 6,
   "id": "58f967cc-60c1-48be-83f1-1135d1de40b2",
   "metadata": {},
   "outputs": [],
   "source": [
    "# Vemos qué hace la función minimize:\n",
    "# Parámetros:\n",
    "# - fun = una función matemática cuyo primer parámetro sea un vector, y el resto, parámetros fijos.\n",
    "#   Aquí, la n de PMF_logbinomial(n, k, theta) es mi vector de valores, y la k y theta son parámetros fijos.\n",
    "# - method = algoritmo a usar para minimizar\n",
    "#   Para la clase uisaremos \"Nelder-Mead\" y \"L-BFGS-B\"\n",
    "#help(minimize)"
   ]
  },
  {
   "cell_type": "code",
   "execution_count": 7,
   "id": "8edf419e-7ec9-49f6-adfe-13ea03026d8c",
   "metadata": {},
   "outputs": [],
   "source": [
    "# Ahora sacamos theta por método de máxima verosimilitud\n",
    "n = 10\n",
    "k = 9\n",
    "theta_inicial = 0.3\n",
    "resultao = minimize(negativa_PMF_logbinomial, x0=theta_inicial, args=(n,k), method=\"Nelder-Mead\", bounds=[(0.00001, 0.99999)])"
   ]
  },
  {
   "cell_type": "code",
   "execution_count": 8,
   "id": "465dd40a-1c64-4f42-baf3-4910af54ad86",
   "metadata": {},
   "outputs": [
    {
     "data": {
      "text/plain": [
       "       message: Optimization terminated successfully.\n",
       "       success: True\n",
       "        status: 0\n",
       "           fun: 3.2508297339144825\n",
       "             x: [ 9.000e-01]\n",
       "           nit: 18\n",
       "          nfev: 36\n",
       " final_simplex: (array([[ 9.000e-01],\n",
       "                       [ 8.999e-01]]), array([ 3.251e+00,  3.251e+00]))"
      ]
     },
     "execution_count": 8,
     "metadata": {},
     "output_type": "execute_result"
    }
   ],
   "source": [
    "resultao"
   ]
  },
  {
   "cell_type": "code",
   "execution_count": 9,
   "id": "72e1b543-a09a-41c1-88e2-93430fb80b54",
   "metadata": {},
   "outputs": [],
   "source": [
    "# Ahora probamos con la distribución de Weibull\n",
    "# Un equipo de control de calidad de Denso Wave ha probado 150 unidades de un componente electrónico hasta que falla, registrando el tiempo de vida de cada uno en horas. Modelamos esa distribución para hacer predicciones como estimar la vida media del componente.\n",
    "# La distribución de Weibull tiene por parámetros:\n",
    "# k = tipo de falla\n",
    "#     k < 1 -> fallas que disminuyen con el tiempo (\"fallas infantiles\")\n",
    "#     k > 1 -> fallas que aumentan con el tiempo (e.g. fallas por desgaste)\n",
    "#     k = 1 -> probabilidad constante, hará que la distribución de Weibull se convierta en exponencial\n",
    "# lambda = vida característica del componente\n",
    "# Fórmula:\n",
    "#     f(x, k, lambda) = (k/lambda)(x/lambda)^(k-1) * e^(-(x/lambda)^k)\n",
    "# donde x >= 0"
   ]
  },
  {
   "cell_type": "code",
   "execution_count": 13,
   "id": "d5a5ef79-0739-4adb-9cab-bd67ef291add",
   "metadata": {},
   "outputs": [
    {
     "data": {
      "text/plain": [
       "(array([1.500e+02, 4.850e+02, 9.050e+02, 1.462e+03, 1.916e+03, 2.538e+03,\n",
       "        3.162e+03, 3.778e+03, 4.253e+03, 4.716e+03, 5.222e+03, 5.446e+03,\n",
       "        5.642e+03, 5.858e+03, 5.707e+03, 5.692e+03, 5.467e+03, 5.111e+03,\n",
       "        4.761e+03, 4.309e+03, 3.841e+03, 3.670e+03, 3.110e+03, 2.452e+03,\n",
       "        2.243e+03, 1.847e+03, 1.519e+03, 1.172e+03, 8.960e+02, 7.240e+02,\n",
       "        5.440e+02, 4.020e+02, 3.000e+02, 2.250e+02, 1.500e+02, 1.140e+02,\n",
       "        6.400e+01, 4.900e+01, 3.600e+01, 2.000e+01, 1.400e+01, 6.000e+00,\n",
       "        8.000e+00, 5.000e+00, 3.000e+00, 4.000e+00, 0.000e+00, 0.000e+00,\n",
       "        1.000e+00, 1.000e+00]),\n",
       " array([  13.97694332,   71.39606999,  128.81519666,  186.23432333,\n",
       "         243.65345   ,  301.07257667,  358.49170334,  415.91083001,\n",
       "         473.32995668,  530.74908335,  588.16821002,  645.58733669,\n",
       "         703.00646336,  760.42559003,  817.8447167 ,  875.26384337,\n",
       "         932.68297004,  990.10209671, 1047.52122338, 1104.94035005,\n",
       "        1162.35947672, 1219.77860339, 1277.19773006, 1334.61685673,\n",
       "        1392.0359834 , 1449.45511007, 1506.87423674, 1564.29336341,\n",
       "        1621.71249008, 1679.13161675, 1736.55074342, 1793.96987009,\n",
       "        1851.38899676, 1908.80812343, 1966.2272501 , 2023.64637677,\n",
       "        2081.06550344, 2138.48463011, 2195.90375678, 2253.32288346,\n",
       "        2310.74201013, 2368.1611368 , 2425.58026347, 2482.99939014,\n",
       "        2540.41851681, 2597.83764348, 2655.25677015, 2712.67589682,\n",
       "        2770.09502349, 2827.51415016, 2884.93327683]),\n",
       " <BarContainer object of 50 artists>)"
      ]
     },
     "execution_count": 13,
     "metadata": {},
     "output_type": "execute_result"
    },
    {
     "data": {
      "image/png": "[encoded data removed]",
      "text/plain": [
       "<Figure size 640x480 with 1 Axes>"
      ]
     },
     "metadata": {},
     "output_type": "display_data"
    }
   ],
   "source": [
    "from scipy.stats import weibull_min\n",
    "numpy.random.seed(297974)\n",
    "k_verdadera = 2.5\n",
    "lambda_verdadera = 1000\n",
    "tamanio_muestra = 100000\n",
    "tiempos_falla = weibull_min.rvs(c=k_verdadera, scale=lambda_verdadera, size=tamanio_muestra)\n",
    "\n",
    "#pyplot.hist(tiempos_falla, bins=50)"
   ]
  },
  {
   "cell_type": "code",
   "execution_count": 16,
   "id": "550fa330-4dfd-46ee-b17d-f88cbf93599c",
   "metadata": {},
   "outputs": [],
   "source": [
    "# Definimos la función de log-verosimilitud negativa\n",
    "def negativa_log_verosimilitud_weibull(tupla_parametros, x):\n",
    "    # no puedo usar \"lambda\" porque f(x) = x^2 en Python se escribe lambda x: x ** 2\n",
    "    k, lambda_ = tupla_parametros\n",
    "    if k <= 0 or lambda_ <= 0:\n",
    "        return numpy.inf\n",
    "    LL = numpy.sum(numpy.log(k) - numpy.log(lambda_) + (k-1)*(numpy.log(x)-numpy.log(lambda_)) - (x/lambda_)**k)\n",
    "    return -LL"
   ]
  },
  {
   "cell_type": "code",
   "execution_count": 18,
   "id": "1bc82e20-aec1-4e81-bd94-d04d102c3e2e",
   "metadata": {},
   "outputs": [
    {
     "data": {
      "text/plain": [
       "  message: CONVERGENCE: RELATIVE REDUCTION OF F <= FACTR*EPSMCH\n",
       "  success: True\n",
       "   status: 0\n",
       "      fun: 734303.8116081941\n",
       "        x: [ 2.483e+00  1.000e+03]\n",
       "      nit: 24\n",
       "      jac: [ 8.848e-01  0.000e+00]\n",
       "     nfev: 81\n",
       "     njev: 27\n",
       " hess_inv: <2x2 LbfgsInvHessProduct with dtype=float64>"
      ]
     },
     "execution_count": 18,
     "metadata": {},
     "output_type": "execute_result"
    }
   ],
   "source": [
    "k_inicial = 1\n",
    "lambda_inicial = 500\n",
    "params_iniciales = (k_inicial, lambda_inicial)\n",
    "limites = ( (0.000001, None), (0.000001, None) )\n",
    "x = tiempos_falla\n",
    "\n",
    "# El resultado sale en x y es la tupla (k, lambda)\n",
    "resultao = minimize(negativa_log_verosimilitud_weibull, x0=params_iniciales, args=(x,), method=\"L-BFGS-B\", bounds=limites)\n",
    "resultao"
   ]
  },
  {
   "cell_type": "code",
   "execution_count": 19,
   "id": "0455e98f-ca58-4f44-a564-0534a39f2afa",
   "metadata": {},
   "outputs": [
    {
     "name": "stdout",
     "output_type": "stream",
     "text": [
      "k original = 2.5, k estimada = 2.4832691458309077, diferencia: 0.016730854169092257\n",
      "lambda original = 1000, k estimada = 1000.2060918125015, diferencia: -0.20609181250154052\n"
     ]
    }
   ],
   "source": [
    "# Comparamos ahora el resultado con lo que originalmente saqué\n",
    "k_gorrito, lambda_gorrito = resultao.x\n",
    "print(f\"k original = {k_verdadera}, k estimada = {k_gorrito}, diferencia: {k_verdadera - k_gorrito}\")\n",
    "print(f\"lambda original = {lambda_verdadera}, k estimada = {lambda_gorrito}, diferencia: {lambda_verdadera - lambda_gorrito}\")"
   ]
  },
  {
   "cell_type": "code",
   "execution_count": null,
   "id": "5bb5c097-eb2f-4b23-9f07-ba105494e7db",
   "metadata": {},
   "outputs": [],
   "source": [
    "pyplot.hist(failure_times, density=True, bins=30)\n",
    "eje_X = numpy.linspace(failure_times.min(), failure_times.max(), 200)\n",
    "pdf_ajustada = weibull_min.pdf(eje_X, c=k_gorrito, scale=lambda_gorrito)\n",
    "plt.plot(x_range, pdf_ajustada, \"r--\")"
   ]
  }
 ],
 "metadata": {
  "kernelspec": {
   "display_name": "Python 3 (ipykernel)",
   "language": "python",
   "name": "python3"
  },
  "language_info": {
   "codemirror_mode": {
    "name": "ipython",
    "version": 3
   },
   "file_extension": ".py",
   "mimetype": "text/x-python",
   "name": "python",
   "nbconvert_exporter": "python",
   "pygments_lexer": "ipython3",
   "version": "3.12.3"
  }
 },
 "nbformat": 4,
 "nbformat_minor": 5
}
