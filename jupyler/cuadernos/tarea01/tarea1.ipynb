{
 "cells": [
  {
   "cell_type": "markdown",
   "id": "0ec02542",
   "metadata": {},
   "source": [
    "# Análisis Estadístico Multivariable - Otoño 2025\n",
    "# Acoyani Garrido Sandoval"
   ]
  },
  {
   "cell_type": "code",
   "execution_count": 1,
   "id": "bfebd5fb",
   "metadata": {},
   "outputs": [],
   "source": [
    "import pandas\n",
    "import numpy\n",
    "import seaborn\n",
    "import matplotlib.pyplot as pyplot"
   ]
  },
  {
   "cell_type": "markdown",
   "id": "1849f500",
   "metadata": {},
   "source": [
    "## 1. Descargar el conjunto de datos winequality-red.csv y cargarlo en PANDAS"
   ]
  },
  {
   "cell_type": "code",
   "execution_count": 2,
   "id": "887089ab",
   "metadata": {},
   "outputs": [],
   "source": [
    "# Cargar el conjunto de datos\n",
    "df = pandas.read_csv('winequality-red.csv', sep=',')"
   ]
  },
  {
   "cell_type": "markdown",
   "id": "57ca018e",
   "metadata": {},
   "source": [
    "## 2. Indicar cuáles son las variables numéricas y cuáles son las categóricas."
   ]
  },
  {
   "cell_type": "markdown",
   "id": "b0edbfbc-255a-4a00-baa5-ed6af7c5f4a1",
   "metadata": {},
   "source": [
    "1. Variables categóricas:\n",
    "    - quality\n",
    "3. Variables numéricas:\n",
    "    - fixed acidity\n",
    "    - volatile acidity\n",
    "    - citric acid\n",
    "    - residual sugar\n",
    "    - chlorides\n",
    "    - free sulfur dioxide\n",
    "    - total sulfur dioxide\n",
    "    - density\n",
    "    - pH\n",
    "    - sulphates\n",
    "    - alcohol"
   ]
  },
  {
   "cell_type": "markdown",
   "id": "be127b16",
   "metadata": {},
   "source": [
    "## 3. Realizar un gráfico pairsplot de todas las variables numéricas."
   ]
  },
  {
   "cell_type": "code",
   "execution_count": null,
   "id": "7a987277",
   "metadata": {},
   "outputs": [],
   "source": [
    "pyplot.figure(figsize=(20, 20))\n",
    "seaborn.pairplot(df)\n",
    "pyplot.show()"
   ]
  },
  {
   "cell_type": "markdown",
   "id": "afd2df97",
   "metadata": {},
   "source": [
    "## 4. Calcular los estadísticos descriptivos para la variable alcohol. Separarlos por estadísticos de tendencia central y de dispersión."
   ]
  },
  {
   "cell_type": "code",
   "execution_count": null,
   "id": "f2cb9984",
   "metadata": {},
   "outputs": [],
   "source": [
    "df_promedio = df['alcohol'].mean()\n",
    "df_mediana = df['alcohol'].median()\n",
    "df_moda = df['alcohol'].mode()[0]\n",
    "\n",
    "df_desvstd = df['alcohol'].std()\n",
    "df_varianza = df['alcohol'].var()\n",
    "df_rango =  df['alcohol'].max() - df['alcohol'].min(),\n",
    "df_RI = df['alcohol'].quantile(0.75) - df['alcohol'].quantile(0.25)\n",
    "\n",
    "print(\"Estadísticos de tendencia central:\")\n",
    "print(f\"Media: {df_promedio}\")\n",
    "print(f\"Mediana: {df_mediana}\")\n",
    "print(f\"Moda: {df_moda}\")\n",
    "print(\"\")\n",
    "print(f\"Desviación estándar: {df_desvstd}\")\n",
    "print(f\"Varianza: {df_varianza}\")\n",
    "print(f\"Rango: {df_rango}\")\n",
    "print(f\"Rango intercuartílico: {df_RI}\")"
   ]
  },
  {
   "cell_type": "markdown",
   "id": "958c810c",
   "metadata": {},
   "source": [
    "## 5. Usar StandardScaler de Scikit-Learn para estandarizar dos variables numéricas de su elección"
   ]
  },
  {
   "cell_type": "code",
   "execution_count": null,
   "id": "52f34200",
   "metadata": {},
   "outputs": [],
   "source": [
    "from sklearn.preprocessing import StandardScaler, MinMaxScaler\n",
    "\n",
    "variables_aestandarizar = ['alcohol', 'density']\n",
    "\n",
    "escalador = StandardScaler()\n",
    "datos_escalados = escalador.fit_transform(df[variables_aestandarizar])\n",
    "df_escalado = pandas.DataFrame(datos_escalados, columns=[ \"alcohol_escalado\", \"density_escalado\" ])\n",
    "\n",
    "fig, axes = pyplot.subplots(2, 2, figsize=(15, 10))\n",
    "fig.suptitle('Comparación de variables originales vs estandarizadas')\n",
    "\n",
    "for indice, variable in enumerate(variables_aestandarizar):\n",
    "    seaborn.histplot(data=df[variable], ax=axes[indice, 0])\n",
    "    axes[indice, 0].set_title(f'Distribución original de {variable}')\n",
    "    \n",
    "    seaborn.histplot(data=df_escalado[f\"{variable}_escalado\"], ax=axes[indice, 1])\n",
    "    axes[indice, 1].set_title(f'Distribución estandarizada de {variable}')\n",
    "\n",
    "pyplot.tight_layout()\n",
    "pyplot.show()\n",
    "\n",
    "print(\"\\nEstadísticos descriptivos de las variables originales:\")\n",
    "display(df[variables_aestandarizar].describe())\n",
    "\n",
    "print(\"\\nEstadísticos descriptivos de las variables estandarizadas:\")\n",
    "display(df_escalado.describe())"
   ]
  },
  {
   "cell_type": "markdown",
   "id": "2df66f44",
   "metadata": {},
   "source": [
    "## 6. Normalización con MinMaxScaler"
   ]
  },
  {
   "cell_type": "code",
   "execution_count": null,
   "id": "bd7e9ac4",
   "metadata": {},
   "outputs": [],
   "source": [
    "min_max_scaler = MinMaxScaler()\n",
    "minmax_escalado = min_max_scaler.fit_transform(df[variables_aestandarizar])\n",
    "df_minmax = pandas.DataFrame(minmax_escalado, columns=[\"alcohol_minmax\", \"density_minmax\"])\n",
    "\n",
    "figura, ejes = pyplot.subplots(2, 2, figsize=(15, 10))\n",
    "figura.suptitle('Comparación de variables originales vs normalizadas (MinMax)')\n",
    "\n",
    "for indice, variable in enumerate(variables_aestandarizar):\n",
    "    seaborn.histplot(data=df[variable], ax=ejes[indice, 0])\n",
    "    ejes[indice, 0].set_title(f'Distribución original de {variable}')\n",
    "    \n",
    "    seaborn.histplot(data=df_minmax[f\"{variable}_minmax\"], ax=ejes[indice, 1])\n",
    "    ejes[indice, 1].set_title(f'Distribución normalizada de {variable}')\n",
    "\n",
    "pyplot.tight_layout()\n",
    "pyplot.show()\n",
    "\n",
    "print(\"\\nEstadísticos descriptivos de las variables normalizadas:\")\n",
    "display(df_minmax.describe())"
   ]
  },
  {
   "cell_type": "markdown",
   "id": "ebba56f8",
   "metadata": {},
   "source": [
    "## 7. Matriz de correlaciones"
   ]
  },
  {
   "cell_type": "code",
   "execution_count": null,
   "id": "0b0fbc36",
   "metadata": {},
   "outputs": [],
   "source": [
    "# Obtener todas las variables numéricas excepto quality\n",
    "columnas_numericas = [\"fixed acidity\",\"volatile acidity\",\"citric acid\",\"residual sugar\",\"chlorides\",\"free sulfur dioxide\",\"total sulfur dioxide\",\"density\",\"pH\",\"sulphates\",\"alcohol\"]\n",
    "\n",
    "# Calcular la matriz de correlaciones\n",
    "corr_matrix = df[columnas_numericas].corr()\n",
    "\n",
    "# Visualizar la matriz de correlaciones\n",
    "pyplot.figure(figsize=(12, 10))\n",
    "seaborn.heatmap(corr_matrix, annot=True, cmap='coolwarm', center=0)\n",
    "pyplot.title('Matriz de correlaciones')\n",
    "pyplot.show()"
   ]
  },
  {
   "cell_type": "markdown",
   "id": "350200f9",
   "metadata": {},
   "source": [
    "## 8. Correlaciones con respecto a `density`"
   ]
  },
  {
   "cell_type": "code",
   "execution_count": null,
   "id": "fb0a29a4",
   "metadata": {},
   "outputs": [],
   "source": [
    "correlacion_densidad = corr_matrix['density'].sort_values(ascending=False)\n",
    "print(\"Correlaciones con density en orden descendente:\")\n",
    "display(correlacion_densidad)\n",
    "\n"
   ]
  },
  {
   "cell_type": "markdown",
   "id": "88b3f657-8c52-4f2c-988c-1f378291c945",
   "metadata": {},
   "source": [
    "## 9. Variables cuyo valor absoluto de correlación es mayor o igual a 0.4"
   ]
  },
  {
   "cell_type": "code",
   "execution_count": null,
   "id": "c17be7df-5823-46c4-9470-89a90175d9df",
   "metadata": {},
   "outputs": [],
   "source": [
    "print(\"\\nVariables con correlación significativa (|corr| >= 0.4) con density:\")\n",
    "correlaciones_significativas = correlacion_densidad[abs(correlacion_densidad) >= 0.4]\n",
    "correlaciones_significativas = correlaciones_significativas[correlaciones_significativas.index != 'density']  # Excluir la autocorrelación\n",
    "display(correlaciones_significativas)"
   ]
  }
 ],
 "metadata": {
  "kernelspec": {
   "display_name": "Python 3 (ipykernel)",
   "language": "python",
   "name": "python3"
  },
  "language_info": {
   "codemirror_mode": {
    "name": "ipython",
    "version": 3
   },
   "file_extension": ".py",
   "mimetype": "text/x-python",
   "name": "python",
   "nbconvert_exporter": "python",
   "pygments_lexer": "ipython3",
   "version": "3.11.2"
  }
 },
 "nbformat": 4,
 "nbformat_minor": 5
}
